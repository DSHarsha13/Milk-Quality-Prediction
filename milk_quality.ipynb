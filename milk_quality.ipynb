{
 "cells": [
  {
   "cell_type": "markdown",
   "id": "83f2f7b5",
   "metadata": {},
   "source": [
    "# 🥛 Milk Quality Prediction - Jupyter Notebook\n",
    "This notebook demonstrates milk quality prediction using **Logistic Regression** and **Random Forest** models.\n",
    "It includes data preprocessing, visualization, and model evaluation."
   ]
  },
  {
   "cell_type": "code",
   "execution_count": null,
   "id": "ffa2bcd3",
   "metadata": {},
   "outputs": [],
   "source": [
    "\n",
    "import os\n",
    "import pandas as pd\n",
    "import numpy as np\n",
    "import matplotlib.pyplot as plt\n",
    "import seaborn as sns\n",
    "\n",
    "from sklearn.model_selection import train_test_split\n",
    "from sklearn.preprocessing import MinMaxScaler\n",
    "from sklearn.linear_model import LogisticRegression\n",
    "from sklearn.ensemble import RandomForestClassifier\n",
    "from sklearn.metrics import accuracy_score\n",
    "\n",
    "# Display plots inline\n",
    "%matplotlib inline\n"
   ]
  },
  {
   "cell_type": "markdown",
   "id": "061b3d28",
   "metadata": {},
   "source": [
    "## 📥 Load Dataset"
   ]
  },
  {
   "cell_type": "code",
   "execution_count": null,
   "id": "4875e458",
   "metadata": {},
   "outputs": [],
   "source": [
    "\n",
    "DATA_PATH = os.path.join(\"data\", \"milknew.csv\")\n",
    "df = pd.read_csv(DATA_PATH)\n",
    "df.head()\n"
   ]
  },
  {
   "cell_type": "markdown",
   "id": "1a4d9e71",
   "metadata": {},
   "source": [
    "## 📊 Dataset Info"
   ]
  },
  {
   "cell_type": "code",
   "execution_count": null,
   "id": "41cff607",
   "metadata": {},
   "outputs": [],
   "source": [
    "\n",
    "df.shape, df.info(), df.describe()\n"
   ]
  },
  {
   "cell_type": "markdown",
   "id": "7e1705b1",
   "metadata": {},
   "source": [
    "## 🧹 Data Cleaning & Preprocessing"
   ]
  },
  {
   "cell_type": "code",
   "execution_count": null,
   "id": "5bf8df20",
   "metadata": {},
   "outputs": [],
   "source": [
    "\n",
    "# Fix column names if needed\n",
    "if 'Fat ' in df.columns:\n",
    "    df.rename(columns={'Fat ': 'Fat'}, inplace=True)\n",
    "\n",
    "# Encode target variable\n",
    "df['Grade'] = df['Grade'].map({'high': 2, 'medium': 1, 'low': 0})\n",
    "\n",
    "df['Grade'].unique(), df.isnull().sum()\n"
   ]
  },
  {
   "cell_type": "markdown",
   "id": "96e1da68",
   "metadata": {},
   "source": [
    "## 📈 Data Visualization"
   ]
  },
  {
   "cell_type": "code",
   "execution_count": null,
   "id": "1ed62863",
   "metadata": {},
   "outputs": [],
   "source": [
    "\n",
    "plt.figure(figsize=(10, 10))\n",
    "sns.heatmap(df.corr(), annot=True, cmap='RdYlGn')\n",
    "plt.title(\"Feature Correlation Heatmap\")\n",
    "plt.show()\n"
   ]
  },
  {
   "cell_type": "code",
   "execution_count": null,
   "id": "cea45acf",
   "metadata": {},
   "outputs": [],
   "source": [
    "\n",
    "df.hist(bins=10, figsize=(20, 20), color='blue')\n",
    "plt.suptitle(\"Feature Distributions\")\n",
    "plt.show()\n"
   ]
  },
  {
   "cell_type": "code",
   "execution_count": null,
   "id": "4d51d4e8",
   "metadata": {},
   "outputs": [],
   "source": [
    "\n",
    "sns.countplot(data=df, x='Grade')\n",
    "plt.title(\"Distribution of Milk Quality Grades\")\n",
    "plt.show()\n"
   ]
  },
  {
   "cell_type": "code",
   "execution_count": null,
   "id": "b0b5473d",
   "metadata": {},
   "outputs": [],
   "source": [
    "\n",
    "sns.regplot(data=df, x=\"Temprature\", y=\"pH\")\n",
    "plt.title(\"Temperature vs pH\")\n",
    "plt.show()\n"
   ]
  },
  {
   "cell_type": "code",
   "execution_count": null,
   "id": "b1c1e449",
   "metadata": {},
   "outputs": [],
   "source": [
    "\n",
    "sns.scatterplot(x=\"Temprature\", y=\"Colour\", data=df)\n",
    "plt.title(\"Temperature vs Colour\")\n",
    "plt.show()\n"
   ]
  },
  {
   "cell_type": "markdown",
   "id": "7163b67b",
   "metadata": {},
   "source": [
    "## 🛠️ Dataset Preparation"
   ]
  },
  {
   "cell_type": "code",
   "execution_count": null,
   "id": "3d8efadd",
   "metadata": {},
   "outputs": [],
   "source": [
    "\n",
    "X = df.drop(columns=['Grade'])\n",
    "y = df['Grade']\n",
    "\n",
    "X_train, X_test, y_train, y_test = train_test_split(X, y, test_size=0.2, random_state=42)\n",
    "\n",
    "scaler = MinMaxScaler()\n",
    "X_train = scaler.fit_transform(X_train)\n",
    "X_test = scaler.transform(X_test)\n"
   ]
  },
  {
   "cell_type": "markdown",
   "id": "f991929f",
   "metadata": {},
   "source": [
    "## 🤖 Logistic Regression"
   ]
  },
  {
   "cell_type": "code",
   "execution_count": null,
   "id": "d6debfd1",
   "metadata": {},
   "outputs": [],
   "source": [
    "\n",
    "acc_vec = []\n",
    "c_vec = np.arange(0.1, 10, 0.5)\n",
    "\n",
    "for c in c_vec:\n",
    "    model = LogisticRegression(C=c, max_iter=1000)\n",
    "    model.fit(X_train, y_train)\n",
    "    y_pred = model.predict(X_test)\n",
    "    acc_vec.append(accuracy_score(y_test, y_pred))\n",
    "\n",
    "best_log_acc = max(acc_vec)\n",
    "print(f\"Logistic Regression Best Accuracy: {best_log_acc:.2f}\")\n",
    "\n",
    "plt.plot(c_vec, acc_vec)\n",
    "plt.xlabel(\"C (Regularization parameter)\")\n",
    "plt.ylabel(\"Accuracy\")\n",
    "plt.title(\"Logistic Regression Accuracy vs C\")\n",
    "plt.show()\n"
   ]
  },
  {
   "cell_type": "markdown",
   "id": "4e730cc2",
   "metadata": {},
   "source": [
    "## 🌲 Random Forest"
   ]
  },
  {
   "cell_type": "code",
   "execution_count": null,
   "id": "78fee0c2",
   "metadata": {},
   "outputs": [],
   "source": [
    "\n",
    "acc_vec_RF = []\n",
    "depth_vec = np.arange(1, 20, 1)\n",
    "\n",
    "for d in depth_vec:\n",
    "    clf = RandomForestClassifier(max_depth=d, random_state=42)\n",
    "    clf.fit(X_train, y_train)\n",
    "    y_pred_RF = clf.predict(X_test)\n",
    "    acc_vec_RF.append(accuracy_score(y_test, y_pred_RF))\n",
    "\n",
    "best_rf_acc = max(acc_vec_RF)\n",
    "print(f\"Random Forest Best Accuracy: {best_rf_acc:.2f}\")\n",
    "\n",
    "plt.plot(depth_vec, acc_vec_RF)\n",
    "plt.xlabel(\"Max Depth\")\n",
    "plt.ylabel(\"Accuracy\")\n",
    "plt.title(\"Random Forest Accuracy vs Tree Depth\")\n",
    "plt.show()\n"
   ]
  },
  {
   "cell_type": "markdown",
   "id": "f4788789",
   "metadata": {},
   "source": [
    "## ✅ Final Results"
   ]
  },
  {
   "cell_type": "code",
   "execution_count": null,
   "id": "c108e5fc",
   "metadata": {},
   "outputs": [],
   "source": [
    "\n",
    "print(\"Best Logistic Regression Accuracy:\", round(best_log_acc, 2))\n",
    "print(\"Best Random Forest Accuracy:\", round(best_rf_acc, 2))\n"
   ]
  }
 ],
 "metadata": {},
 "nbformat": 4,
 "nbformat_minor": 5
}